{
 "cells": [
  {
   "cell_type": "code",
   "execution_count": 1,
   "metadata": {},
   "outputs": [],
   "source": [
    "from algothon2021long_short import LongShort\n",
    "import numpy as np\n",
    "import pandas as pd\n",
    "import statsmodels.api as sm\n",
    "import matplotlib.pyplot as plt"
   ]
  },
  {
   "cell_type": "code",
   "execution_count": 2,
   "metadata": {},
   "outputs": [],
   "source": [
    "filenumbers = [11,12,13,14,15]\n",
    "data = []\n",
    "for i in filenumbers:\n",
    "    # Load csv files\n",
    "    df = pd.read_csv(f'long_short_training_features_targets/sector 3 - gold/Asset_{i}_training_data.csv')\n",
    "    df['asset'] = i\n",
    "    df = df.reset_index()\n",
    "    data.append(df)\n",
    "\n",
    "data = pd.concat(data, axis=0)"
   ]
  },
  {
   "cell_type": "code",
   "execution_count": 3,
   "metadata": {},
   "outputs": [
    {
     "name": "stderr",
     "output_type": "stream",
     "text": [
      "<ipython-input-3-c1125f0bc344>:2: SettingWithCopyWarning: \n",
      "A value is trying to be set on a copy of a slice from a DataFrame.\n",
      "Try using .loc[row_indexer,col_indexer] = value instead\n",
      "\n",
      "See the caveats in the documentation: https://pandas.pydata.org/pandas-docs/stable/user_guide/indexing.html#returning-a-view-versus-a-copy\n",
      "  X['intercept'] = 1.0\n"
     ]
    }
   ],
   "source": [
    "X = df.filter(like = 'log_returns')\n",
    "X['intercept'] = 1.0\n",
    "y = df['target']"
   ]
  },
  {
   "cell_type": "code",
   "execution_count": 4,
   "metadata": {},
   "outputs": [
    {
     "data": {
      "text/html": [
       "<table class=\"simpletable\">\n",
       "<caption>OLS Regression Results</caption>\n",
       "<tr>\n",
       "  <th>Dep. Variable:</th>         <td>target</td>      <th>  R-squared:         </th>  <td>   1.000</td> \n",
       "</tr>\n",
       "<tr>\n",
       "  <th>Model:</th>                   <td>OLS</td>       <th>  Adj. R-squared:    </th>  <td>   1.000</td> \n",
       "</tr>\n",
       "<tr>\n",
       "  <th>Method:</th>             <td>Least Squares</td>  <th>  F-statistic:       </th>  <td>2.654e+31</td>\n",
       "</tr>\n",
       "<tr>\n",
       "  <th>Date:</th>             <td>Thu, 01 Apr 2021</td> <th>  Prob (F-statistic):</th>   <td>  0.00</td>  \n",
       "</tr>\n",
       "<tr>\n",
       "  <th>Time:</th>                 <td>20:26:31</td>     <th>  Log-Likelihood:    </th>  <td>  60460.</td> \n",
       "</tr>\n",
       "<tr>\n",
       "  <th>No. Observations:</th>      <td>  1756</td>      <th>  AIC:               </th> <td>-1.209e+05</td>\n",
       "</tr>\n",
       "<tr>\n",
       "  <th>Df Residuals:</th>          <td>  1749</td>      <th>  BIC:               </th> <td>-1.209e+05</td>\n",
       "</tr>\n",
       "<tr>\n",
       "  <th>Df Model:</th>              <td>     6</td>      <th>                     </th>      <td> </td>    \n",
       "</tr>\n",
       "<tr>\n",
       "  <th>Covariance Type:</th>      <td>nonrobust</td>    <th>                     </th>      <td> </td>    \n",
       "</tr>\n",
       "</table>\n",
       "<table class=\"simpletable\">\n",
       "<tr>\n",
       "         <td></td>            <th>coef</th>     <th>std err</th>      <th>t</th>      <th>P>|t|</th>  <th>[0.025</th>    <th>0.975]</th>  \n",
       "</tr>\n",
       "<tr>\n",
       "  <th>log_returns_1</th>   <td> -1.54e-15</td> <td> 1.92e-16</td> <td>   -8.031</td> <td> 0.000</td> <td>-1.92e-15</td> <td>-1.16e-15</td>\n",
       "</tr>\n",
       "<tr>\n",
       "  <th>log_returns_5</th>   <td>   -1.0000</td> <td> 1.23e-16</td> <td>-8.15e+15</td> <td> 0.000</td> <td>   -1.000</td> <td>   -1.000</td>\n",
       "</tr>\n",
       "<tr>\n",
       "  <th>log_returns_10</th>  <td>    1.0000</td> <td> 9.45e-17</td> <td> 1.06e+16</td> <td> 0.000</td> <td>    1.000</td> <td>    1.000</td>\n",
       "</tr>\n",
       "<tr>\n",
       "  <th>log_returns_25</th>  <td> 1.659e-16</td> <td>  5.7e-17</td> <td>    2.909</td> <td> 0.004</td> <td>  5.4e-17</td> <td> 2.78e-16</td>\n",
       "</tr>\n",
       "<tr>\n",
       "  <th>log_returns_50</th>  <td> 2.975e-16</td> <td>    4e-17</td> <td>    7.439</td> <td> 0.000</td> <td> 2.19e-16</td> <td> 3.76e-16</td>\n",
       "</tr>\n",
       "<tr>\n",
       "  <th>log_returns_100</th> <td>-1.104e-16</td> <td> 2.16e-17</td> <td>   -5.104</td> <td> 0.000</td> <td>-1.53e-16</td> <td> -6.8e-17</td>\n",
       "</tr>\n",
       "<tr>\n",
       "  <th>intercept</th>       <td> 2.201e-16</td> <td> 6.54e-18</td> <td>   33.679</td> <td> 0.000</td> <td> 2.07e-16</td> <td> 2.33e-16</td>\n",
       "</tr>\n",
       "</table>\n",
       "<table class=\"simpletable\">\n",
       "<tr>\n",
       "  <th>Omnibus:</th>       <td> 8.272</td> <th>  Durbin-Watson:     </th> <td>   0.382</td>\n",
       "</tr>\n",
       "<tr>\n",
       "  <th>Prob(Omnibus):</th> <td> 0.016</td> <th>  Jarque-Bera (JB):  </th> <td>   9.825</td>\n",
       "</tr>\n",
       "<tr>\n",
       "  <th>Skew:</th>          <td>-0.078</td> <th>  Prob(JB):          </th> <td> 0.00735</td>\n",
       "</tr>\n",
       "<tr>\n",
       "  <th>Kurtosis:</th>      <td> 3.332</td> <th>  Cond. No.          </th> <td>    31.0</td>\n",
       "</tr>\n",
       "</table><br/><br/>Notes:<br/>[1] Standard Errors assume that the covariance matrix of the errors is correctly specified."
      ],
      "text/plain": [
       "<class 'statsmodels.iolib.summary.Summary'>\n",
       "\"\"\"\n",
       "                            OLS Regression Results                            \n",
       "==============================================================================\n",
       "Dep. Variable:                 target   R-squared:                       1.000\n",
       "Model:                            OLS   Adj. R-squared:                  1.000\n",
       "Method:                 Least Squares   F-statistic:                 2.654e+31\n",
       "Date:                Thu, 01 Apr 2021   Prob (F-statistic):               0.00\n",
       "Time:                        20:26:31   Log-Likelihood:                 60460.\n",
       "No. Observations:                1756   AIC:                        -1.209e+05\n",
       "Df Residuals:                    1749   BIC:                        -1.209e+05\n",
       "Df Model:                           6                                         \n",
       "Covariance Type:            nonrobust                                         \n",
       "===================================================================================\n",
       "                      coef    std err          t      P>|t|      [0.025      0.975]\n",
       "-----------------------------------------------------------------------------------\n",
       "log_returns_1    -1.54e-15   1.92e-16     -8.031      0.000   -1.92e-15   -1.16e-15\n",
       "log_returns_5      -1.0000   1.23e-16  -8.15e+15      0.000      -1.000      -1.000\n",
       "log_returns_10      1.0000   9.45e-17   1.06e+16      0.000       1.000       1.000\n",
       "log_returns_25   1.659e-16    5.7e-17      2.909      0.004     5.4e-17    2.78e-16\n",
       "log_returns_50   2.975e-16      4e-17      7.439      0.000    2.19e-16    3.76e-16\n",
       "log_returns_100 -1.104e-16   2.16e-17     -5.104      0.000   -1.53e-16    -6.8e-17\n",
       "intercept        2.201e-16   6.54e-18     33.679      0.000    2.07e-16    2.33e-16\n",
       "==============================================================================\n",
       "Omnibus:                        8.272   Durbin-Watson:                   0.382\n",
       "Prob(Omnibus):                  0.016   Jarque-Bera (JB):                9.825\n",
       "Skew:                          -0.078   Prob(JB):                      0.00735\n",
       "Kurtosis:                       3.332   Cond. No.                         31.0\n",
       "==============================================================================\n",
       "\n",
       "Notes:\n",
       "[1] Standard Errors assume that the covariance matrix of the errors is correctly specified.\n",
       "\"\"\""
      ]
     },
     "execution_count": 4,
     "metadata": {},
     "output_type": "execute_result"
    }
   ],
   "source": [
    "reg_model  = sm.OLS(y, X, hasconst = True)\n",
    "fit = reg_model.fit()\n",
    "fit.summary()"
   ]
  },
  {
   "cell_type": "code",
   "execution_count": 5,
   "metadata": {},
   "outputs": [],
   "source": [
    "# filenumbers = [11,12,13,14,15]\n",
    "# data = []\n",
    "# for i in filenumbers:\n",
    "#     # Load csv files\n",
    "#     df = pd.read_csv(f'Asset_{i}_test_features.csv')\n",
    "#     df['asset'] = i\n",
    "#     df = df.reset_index()\n",
    "#     data.append(df)\n",
    "\n",
    "# data = pd.concat(data, axis = 0)"
   ]
  },
  {
   "cell_type": "code",
   "execution_count": 6,
   "metadata": {},
   "outputs": [
    {
     "data": {
      "text/html": [
       "<div>\n",
       "<style scoped>\n",
       "    .dataframe tbody tr th:only-of-type {\n",
       "        vertical-align: middle;\n",
       "    }\n",
       "\n",
       "    .dataframe tbody tr th {\n",
       "        vertical-align: top;\n",
       "    }\n",
       "\n",
       "    .dataframe thead th {\n",
       "        text-align: right;\n",
       "    }\n",
       "</style>\n",
       "<table border=\"1\" class=\"dataframe\">\n",
       "  <thead>\n",
       "    <tr style=\"text-align: right;\">\n",
       "      <th></th>\n",
       "      <th>index</th>\n",
       "      <th>log_returns_1</th>\n",
       "      <th>log_returns_5</th>\n",
       "      <th>log_returns_10</th>\n",
       "      <th>log_returns_25</th>\n",
       "      <th>log_returns_50</th>\n",
       "      <th>log_returns_100</th>\n",
       "      <th>target</th>\n",
       "      <th>asset</th>\n",
       "      <th>signal</th>\n",
       "    </tr>\n",
       "  </thead>\n",
       "  <tbody>\n",
       "    <tr>\n",
       "      <th>0</th>\n",
       "      <td>0</td>\n",
       "      <td>-0.012870</td>\n",
       "      <td>0.007569</td>\n",
       "      <td>0.072028</td>\n",
       "      <td>0.082662</td>\n",
       "      <td>0.014534</td>\n",
       "      <td>0.062498</td>\n",
       "      <td>0.064458</td>\n",
       "      <td>11</td>\n",
       "      <td>0.064458</td>\n",
       "    </tr>\n",
       "    <tr>\n",
       "      <th>0</th>\n",
       "      <td>0</td>\n",
       "      <td>-0.017628</td>\n",
       "      <td>0.004191</td>\n",
       "      <td>0.071789</td>\n",
       "      <td>0.044043</td>\n",
       "      <td>-0.052249</td>\n",
       "      <td>-0.005053</td>\n",
       "      <td>0.067598</td>\n",
       "      <td>12</td>\n",
       "      <td>0.067598</td>\n",
       "    </tr>\n",
       "    <tr>\n",
       "      <th>0</th>\n",
       "      <td>0</td>\n",
       "      <td>-0.022258</td>\n",
       "      <td>0.020234</td>\n",
       "      <td>0.078590</td>\n",
       "      <td>0.010168</td>\n",
       "      <td>-0.128155</td>\n",
       "      <td>-0.255704</td>\n",
       "      <td>0.058356</td>\n",
       "      <td>13</td>\n",
       "      <td>0.058356</td>\n",
       "    </tr>\n",
       "    <tr>\n",
       "      <th>0</th>\n",
       "      <td>0</td>\n",
       "      <td>-0.008653</td>\n",
       "      <td>0.009669</td>\n",
       "      <td>0.047961</td>\n",
       "      <td>0.008579</td>\n",
       "      <td>-0.088496</td>\n",
       "      <td>-0.183606</td>\n",
       "      <td>0.038292</td>\n",
       "      <td>14</td>\n",
       "      <td>0.038292</td>\n",
       "    </tr>\n",
       "    <tr>\n",
       "      <th>0</th>\n",
       "      <td>0</td>\n",
       "      <td>-0.029976</td>\n",
       "      <td>-0.009308</td>\n",
       "      <td>0.060386</td>\n",
       "      <td>-0.085486</td>\n",
       "      <td>-0.310129</td>\n",
       "      <td>-0.294849</td>\n",
       "      <td>0.069694</td>\n",
       "      <td>15</td>\n",
       "      <td>0.069694</td>\n",
       "    </tr>\n",
       "  </tbody>\n",
       "</table>\n",
       "</div>"
      ],
      "text/plain": [
       "   index  log_returns_1  log_returns_5  log_returns_10  log_returns_25  \\\n",
       "0      0      -0.012870       0.007569        0.072028        0.082662   \n",
       "0      0      -0.017628       0.004191        0.071789        0.044043   \n",
       "0      0      -0.022258       0.020234        0.078590        0.010168   \n",
       "0      0      -0.008653       0.009669        0.047961        0.008579   \n",
       "0      0      -0.029976      -0.009308        0.060386       -0.085486   \n",
       "\n",
       "   log_returns_50  log_returns_100    target  asset    signal  \n",
       "0        0.014534         0.062498  0.064458     11  0.064458  \n",
       "0       -0.052249        -0.005053  0.067598     12  0.067598  \n",
       "0       -0.128155        -0.255704  0.058356     13  0.058356  \n",
       "0       -0.088496        -0.183606  0.038292     14  0.038292  \n",
       "0       -0.310129        -0.294849  0.069694     15  0.069694  "
      ]
     },
     "execution_count": 6,
     "metadata": {},
     "output_type": "execute_result"
    }
   ],
   "source": [
    "# Target is literally just log returns 10 subtracted by log returns 5\n",
    "data['signal'] = data['log_returns_10'] - data['log_returns_5']\n",
    "data[data['index'] == 0] # Show all data at day 0"
   ]
  },
  {
   "cell_type": "code",
   "execution_count": 7,
   "metadata": {},
   "outputs": [],
   "source": [
    "data = data.reset_index(drop=True)"
   ]
  },
  {
   "cell_type": "code",
   "execution_count": 8,
   "metadata": {},
   "outputs": [],
   "source": [
    "# Function to assign weights to signals\n",
    "def make_long_short(signal):\n",
    "    # Find mean signal of 5 assets and subtract all by this mean to give +ve and -ve values centred at 0\n",
    "    signal -= np.mean(signal)\n",
    "    # Take absolute maximum value of signal and divide by this value to place all values within the range of -1 to 1\n",
    "    signal /= np.max(np.abs(signal))\n",
    "    \n",
    "    return signal"
   ]
  },
  {
   "cell_type": "code",
   "execution_count": 9,
   "metadata": {},
   "outputs": [],
   "source": [
    "# Create 'weight' column, apply make_long_short function to signal column after grouping them by each day\n",
    "data['weight'] = data.groupby('index')['signal'].apply(make_long_short)\n",
    "data = data[['index', 'asset', 'weight']]"
   ]
  },
  {
   "cell_type": "code",
   "execution_count": 12,
   "metadata": {},
   "outputs": [
    {
     "data": {
      "text/plain": [
       "1756.0"
      ]
     },
     "execution_count": 12,
     "metadata": {},
     "output_type": "execute_result"
    }
   ],
   "source": [
    "len(data)/5"
   ]
  },
  {
   "cell_type": "code",
   "execution_count": 13,
   "metadata": {},
   "outputs": [],
   "source": [
    "clean_data = []\n",
    "# for i in number of days\n",
    "for i in range(0, int(len(data)/5)):\n",
    "    \n",
    "    temp = data[data['index'] == i]\n",
    "    temp = temp['weight'].values\n",
    "    temp = pd.DataFrame(temp)\n",
    "    df_transposed = temp.T\n",
    "    clean_data.append(df_transposed)\n",
    "    \n",
    "clean_data = pd.concat(clean_data, axis=0)"
   ]
  },
  {
   "cell_type": "code",
   "execution_count": 17,
   "metadata": {},
   "outputs": [],
   "source": [
    "final = pd.DataFrame(clean_data)\n",
    "final = final.reset_index()\n",
    "final = final.drop(['index'], axis=1)\n",
    "# Export weights to csv\n",
    "final.to_csv(f'LaPacks_test_long_short.csv', index=False)"
   ]
  },
  {
   "cell_type": "code",
   "execution_count": null,
   "metadata": {},
   "outputs": [],
   "source": []
  }
 ],
 "metadata": {
  "kernelspec": {
   "display_name": "Python 3",
   "language": "python",
   "name": "python3"
  },
  "language_info": {
   "codemirror_mode": {
    "name": "ipython",
    "version": 3
   },
   "file_extension": ".py",
   "mimetype": "text/x-python",
   "name": "python",
   "nbconvert_exporter": "python",
   "pygments_lexer": "ipython3",
   "version": "3.8.5"
  }
 },
 "nbformat": 4,
 "nbformat_minor": 2
}
